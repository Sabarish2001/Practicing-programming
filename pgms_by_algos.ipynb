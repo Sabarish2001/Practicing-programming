{
 "cells": [
  {
   "cell_type": "code",
   "execution_count": 1,
   "metadata": {},
   "outputs": [],
   "source": [
    "#In this notebook i am learning to write programs by defining algorithms and start executing it "
   ]
  },
  {
   "cell_type": "code",
   "execution_count": 2,
   "metadata": {},
   "outputs": [],
   "source": [
    "# What is an Algorithm?\n",
    "\n",
    "    # An algorithm is a sequence of instructions to perform a well formulated problem.\n",
    "    # Problems are specified in terms of INPUTS & OUTPUTS\n",
    "    # And the algorithms is the method of translating INPUTS -> OUTPUTS.\n",
    "    \n",
    "                # INPUTS(data) -> ALGORITHM(processing) -> OUTPUTS\n",
    "        \n",
    "    # It is important to understand how an algorithm works in order to be confident in its results.\n",
    "    # It is even more important to understand in what methodology an algorithm is designed.\n",
    "    \n",
    "    # To solve a problem someone needs to carry out the steps specified by the algorithm.\n",
    "            \n",
    "                # Human with a pen & paper could do this(but we prefer not to perform repetitive work and are generally slow)\n",
    "                \n",
    "                # A computer could do simple steps quickly and reliably and also performs repetitive work.\n",
    "    "
   ]
  },
  {
   "cell_type": "code",
   "execution_count": 3,
   "metadata": {},
   "outputs": [],
   "source": [
    "# PSEUDOCODE(false code(not an actual code)) is used to describe ALGORITHM\n",
    "\n",
    "        #PSEUDOCODE ignore many of the details that are required in a programming language\n",
    "        #PSEUDOCODE is a language computer scientists use often\n",
    "        "
   ]
  },
  {
   "cell_type": "code",
   "execution_count": 4,
   "metadata": {},
   "outputs": [],
   "source": [
    "# a <- 120 - sets the value of 120 to a where a is a variable or object\n",
    "\n",
    "# b <- 20\n",
    "# a <- b     The value of a is 20 as b is set/assigned to a"
   ]
  },
  {
   "cell_type": "code",
   "execution_count": null,
   "metadata": {},
   "outputs": [],
   "source": [
    "# Algorithm to find maximum number between two given numbers\n",
    "\n",
    "# MAX(a,b)\n",
    "    \n",
    "    \"\"\"If a > b\n",
    "        return a\n",
    "        else\n",
    "            return b\"\"\"\n",
    "    \n"
   ]
  }
 ],
 "metadata": {
  "kernelspec": {
   "display_name": "Python 3",
   "language": "python",
   "name": "python3"
  },
  "language_info": {
   "codemirror_mode": {
    "name": "ipython",
    "version": 3
   },
   "file_extension": ".py",
   "mimetype": "text/x-python",
   "name": "python",
   "nbconvert_exporter": "python",
   "pygments_lexer": "ipython3",
   "version": "3.8.5"
  }
 },
 "nbformat": 4,
 "nbformat_minor": 4
}
